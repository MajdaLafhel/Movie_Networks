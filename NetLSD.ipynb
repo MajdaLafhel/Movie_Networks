{
  "nbformat": 4,
  "nbformat_minor": 0,
  "metadata": {
    "colab": {
      "provenance": []
    },
    "kernelspec": {
      "name": "python3",
      "display_name": "Python 3"
    },
    "language_info": {
      "name": "python"
    }
  },
  "cells": [
    {
      "cell_type": "code",
      "source": [
        "!unzip \"/content/netlsd-20240309T122627Z-001.zip\""
      ],
      "metadata": {
        "id": "Zp7wFdvNUbLv"
      },
      "execution_count": null,
      "outputs": []
    },
    {
      "cell_type": "code",
      "source": [
        "!unzip \"/content/Movie_networks.zip\""
      ],
      "metadata": {
        "id": "kh7UduRUOoKi"
      },
      "execution_count": null,
      "outputs": []
    },
    {
      "cell_type": "code",
      "source": [
        "!unzip \"/content/EdgesTxt.zip\""
      ],
      "metadata": {
        "id": "hWN7THnUOo4C"
      },
      "execution_count": null,
      "outputs": []
    },
    {
      "cell_type": "code",
      "metadata": {
        "id": "Q13ZswfcLPie"
      },
      "source": [
        "import networkx as nx\n",
        "import pandas as pd\n",
        "import numpy as np\n",
        "import netlsd"
      ],
      "execution_count": null,
      "outputs": []
    },
    {
      "cell_type": "code",
      "source": [
        "#__________________ Sci-fi movies _____________\n",
        "\n",
        "#   The path can be defined in two ways: using graphml or txt format\n",
        "#   For instance:\n",
        "#   SW1=nx.read_graphml('/Movie_networks/sci-fi/SW1/character.graphml')\n",
        "#   or\n",
        "#   SW1=nx.read_edgelist('/EdgesTxt/sci-fi/SW1/A-A.txt')\n",
        "\n",
        "_SW1 = nx.read_graphml('/content/Movie_networks/sci-fi/SW1/CHARACTER.graphml')\n",
        "_SW2 = nx.read_graphml('/content/Movie_networks/sci-fi/SW2/CHARACTER.graphml')\n",
        "_SW3 = nx.read_graphml('/content/Movie_networks/sci-fi/SW3/CHARACTER.graphml')\n",
        "_SW4 = nx.read_graphml('/content/Movie_networks/sci-fi/SW4/CHARACTER.graphml')\n",
        "_SW5 = nx.read_graphml('/content/Movie_networks/sci-fi/SW5/CHARACTER.graphml')\n",
        "_SW6 = nx.read_graphml('/content/Movie_networks/sci-fi/SW6/CHARACTER.graphml')\n",
        "\n",
        "# Compute network features\n",
        "SW1=netlsd.heat(_SW1)\n",
        "SW2=netlsd.heat(_SW2)\n",
        "SW3=netlsd.heat(_SW3)\n",
        "SW4=netlsd.heat(_SW4)\n",
        "SW5=netlsd.heat(_SW5)\n",
        "SW6=netlsd.heat(_SW6)\n",
        "\n",
        "# Compute the distance between networks\n",
        "Djs_SW1_SW1 = netlsd.compare(SW1, SW1)\n",
        "Djs_SW2_SW2 = netlsd.compare(SW2, SW2)\n",
        "Djs_SW3_SW3 = netlsd.compare(SW3, SW3)\n",
        "Djs_SW4_SW4 = netlsd.compare(SW4, SW4)\n",
        "Djs_SW5_SW5 = netlsd.compare(SW5, SW5)\n",
        "Djs_SW6_SW6 = netlsd.compare(SW6, SW6)\n",
        "\n",
        "Djs_SW1_SW2 = netlsd.compare(SW1, SW2)\n",
        "Djs_SW1_SW3 = netlsd.compare(SW1, SW3)\n",
        "Djs_SW1_SW4 = netlsd.compare(SW1, SW4)\n",
        "Djs_SW1_SW5 = netlsd.compare(SW1, SW5)\n",
        "Djs_SW1_SW6 = netlsd.compare(SW1, SW6)\n",
        "\n",
        "Djs_SW2_SW3 = netlsd.compare(SW2, SW3)\n",
        "Djs_SW2_SW4 = netlsd.compare(SW2, SW4)\n",
        "Djs_SW2_SW5 = netlsd.compare(SW2, SW5)\n",
        "Djs_SW2_SW6 = netlsd.compare(SW2, SW6)\n",
        "\n",
        "Djs_SW3_SW4 = netlsd.compare(SW3, SW4)\n",
        "Djs_SW3_SW5 = netlsd.compare(SW3, SW5)\n",
        "Djs_SW3_SW6 = netlsd.compare(SW3, SW6)\n",
        "\n",
        "Djs_SW4_SW5 = netlsd.compare(SW4, SW5)\n",
        "Djs_SW4_SW6 = netlsd.compare(SW4, SW6)\n",
        "\n",
        "Djs_SW5_SW6 = netlsd.compare(SW5, SW6)\n",
        "\n",
        "XLayer = [\"SW1\", \"SW2\", \"SW3\", \"SW4\", \"SW5\", \"SW6\"]\n",
        "YLayer = [\"SW1\", \"SW2\", \"SW3\", \"SW4\", \"SW5\", \"SW6\"]\n",
        "\n",
        "MatriceDj=np.array([\n",
        "    [Djs_SW1_SW1,Djs_SW1_SW2,Djs_SW1_SW3,Djs_SW1_SW4,Djs_SW1_SW5,Djs_SW1_SW6],\n",
        "                   [Djs_SW1_SW2,Djs_SW2_SW2,Djs_SW2_SW3,Djs_SW2_SW4,Djs_SW2_SW5,Djs_SW2_SW6],\n",
        "                   [Djs_SW1_SW3,Djs_SW2_SW3,Djs_SW3_SW3,Djs_SW3_SW4,Djs_SW3_SW5,Djs_SW3_SW6],\n",
        "                   [Djs_SW1_SW4,Djs_SW2_SW4,Djs_SW3_SW4,Djs_SW4_SW4,Djs_SW4_SW5,Djs_SW4_SW6],\n",
        "                   [Djs_SW1_SW5,Djs_SW2_SW5,Djs_SW3_SW5,Djs_SW4_SW5,Djs_SW5_SW5,Djs_SW5_SW6],\n",
        "                   [Djs_SW1_SW6,Djs_SW2_SW6,Djs_SW3_SW6,Djs_SW4_SW6,Djs_SW5_SW6,Djs_SW6_SW6]])\n",
        "\n",
        "NetLSD_Sci_Fi = pd.DataFrame(data=MatriceDj, index=[\"SW1\",\"SW2\",\"SW3\",\"SW4\",\"SW5\",\"SW6\"], columns=[\"SW1\",\"SW2\",\"SW3\",\"SW4\",\"SW5\",\"SW6\"])\n",
        "print(NetLSD_Sci_Fi)\n",
        "NetLSD_Sci_Fi.to_csv(\"/content/NetLSD_Sci_Fi.csv\", sep=',', columns=None)\n"
      ],
      "metadata": {
        "id": "L9LJCBuNYQc4"
      },
      "execution_count": null,
      "outputs": []
    },
    {
      "cell_type": "code",
      "source": [
        "#___________________ Romance movies _____________\n",
        "\n",
        "Tit=nx.read_edgelist('/content/EdgesTxt/romance/Titanic/A-A.txt')\n",
        "Twil_2008=nx.read_edgelist('/content/EdgesTxt/romance/Twilight_2008/A-A.txt')\n",
        "Twil_new_moon=nx.read_edgelist('/content/EdgesTxt/romance/Twilight_New_Moon/A-A.txt')\n",
        "\n",
        "# Compute network features\n",
        "titanic = netlsd.heat(Tit)\n",
        "twilight2008 = netlsd.heat(Twil_2008)\n",
        "twilight_new_moon= netlsd.heat(Twil_new_moon)\n",
        "\n",
        "# Compute the distance between networks\n",
        "Djs_titanic_titanic = netlsd.compare(titanic, titanic)\n",
        "Djs_Tw2008_Tw2008 = netlsd.compare(twilight2008, twilight2008)\n",
        "Djs_TNM_TNM = netlsd.compare(twilight_new_moon, twilight_new_moon)\n",
        "\n",
        "tit_tw1 = netlsd.compare(titanic, twilight2008)\n",
        "tw1_tw2 = netlsd.compare(twilight2008, twilight_new_moon)\n",
        "tit_tw2 = netlsd.compare(titanic, twilight_new_moon)\n",
        "\n",
        "XLayer = [\"Titanic\", \"TW_2008\", \"TW_NM\"]\n",
        "YLayer = [\"Titanic\", \"TW_2008\", \"TW_NM\"]\n",
        "\n",
        "MatriceDj=np.array([[0,tit_tw1,tit_tw2],\n",
        "                   [tit_tw1,0,tw1_tw2],\n",
        "                    [tit_tw2,tw1_tw2,0]])\n",
        "\n",
        "NetLSD_Romance = pd.DataFrame(data=MatriceDj, index=[\"Titanic\", \"TW_2008\", \"TW_NM\"], columns=[\"Titanic\", \"TW_2008\", \"TW_NM\"])\n",
        "print(NetLSD_Romance)\n",
        "NetLSD_Romance.to_csv(\"/content/NetLSD_Romance.csv\", sep=',', columns=None)\n"
      ],
      "metadata": {
        "id": "InVXNkXVtheD"
      },
      "execution_count": null,
      "outputs": []
    },
    {
      "cell_type": "code",
      "source": [
        "#__________________ Horror movies __________________\n",
        "\n",
        "sc1=nx.read_edgelist('/content/EdgesTxt/horror/Scream1/A-A.txt')\n",
        "sc2=nx.read_edgelist('/content/EdgesTxt/horror/Scream2/A-A.txt')\n",
        "sc3=nx.read_edgelist('/content/EdgesTxt/horror/Scream3/A-A.txt')\n",
        "\n",
        "# Compute network features\n",
        "scream1 = netlsd.heat(sc1)\n",
        "Scream2 = netlsd.heat(sc2)\n",
        "Scream3= netlsd.heat(sc3)\n",
        "\n",
        "# Compute the distance between networks\n",
        "SC1_SC2 = netlsd.compare(scream1, Scream2)\n",
        "SC1_SC3 = netlsd.compare(scream1, Scream3)\n",
        "SC2_SC3 = netlsd.compare(Scream2, Scream3)\n",
        "\n",
        "\n",
        "XLayer = [\"Airplane\", \"10_things\", \"500_days\"]\n",
        "YLayer = [\"Airplane\", \"10_things\", \"500_days\"]\n",
        "\n",
        "MatriceDj=np.array([\n",
        "                    [0,SC1_SC2,SC1_SC3],\n",
        "                    [SC1_SC2,0,SC2_SC3],\n",
        "                    [SC1_SC3,SC2_SC3,0]\n",
        "                    ])\n",
        "\n",
        "NetLSD_Horror = pd.DataFrame(data=MatriceDj, index=[\"SC_1\", \"SC_2\", \"SC_3\"], columns=[\"SC_1\", \"SC_2\", \"SC_3\"])\n",
        "print(NetLSD_Horror)\n",
        "NetLSD_Horror.to_csv(\"/content/NetLSD_Horror.csv\", sep=',', columns=None)\n"
      ],
      "metadata": {
        "id": "m-ktUxgXv_Cq"
      },
      "execution_count": null,
      "outputs": []
    },
    {
      "cell_type": "code",
      "source": [
        "#__________________ Comedy movies __________________\n",
        "\n",
        "AirPlane = nx.read_edgelist('/content/EdgesTxt/comedy/Airplane/A-A.txt')\n",
        "Ten_Things_I_Know = nx.read_edgelist('/content/EdgesTxt/comedy/Ten_things/A-A.txt')\n",
        "__500_Days = nx.read_edgelist('/content/EdgesTxt/comedy/500days/A-A.txt')\n",
        "\n",
        "# Compute network features\n",
        "_AirPlane = netlsd.heat(AirPlane)\n",
        "_Ten_Things_I_Know = netlsd.heat(Ten_Things_I_Know)\n",
        "_500_Days= netlsd.heat(__500_Days)\n",
        "\n",
        "# Compute the distance between networks\n",
        "Airplane_Ten_Things_I_Know = netlsd.compare(_AirPlane, _Ten_Things_I_Know)\n",
        "Ten_Things_I_Know_500_Days = netlsd.compare(_Ten_Things_I_Know, _500_Days)\n",
        "Airplane_500_Days = netlsd.compare(_AirPlane, _500_Days)\n",
        "\n",
        "XLayer = [\"Airplane\", \"10_things\", \"500_days\"]\n",
        "YLayer = [\"Airplane\", \"10_things\", \"500_days\"]\n",
        "\n",
        "MatriceDj=np.array([[0,Airplane_Ten_Things_I_Know,Airplane_500_Days],\n",
        "                   [Airplane_Ten_Things_I_Know,0,Ten_Things_I_Know_500_Days],\n",
        "                    [Airplane_500_Days,Ten_Things_I_Know_500_Days,0]])\n",
        "\n",
        "NetLSD_Comedy = pd.DataFrame(data=MatriceDj, index=[\"Airplane\", \"10_things\", \"500_days\"], columns=[\"Airplane\", \"10_things\", \"500_days\"])\n",
        "print(NetLSD_Comedy)\n",
        "NetLSD_Comedy.to_csv(\"/content/NetLSD_Comedy.csv\", sep=',', columns=None)\n"
      ],
      "metadata": {
        "id": "Z2Np_fEcwzSe"
      },
      "execution_count": null,
      "outputs": []
    }
  ]
}