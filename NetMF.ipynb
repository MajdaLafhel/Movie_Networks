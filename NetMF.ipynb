{
  "nbformat": 4,
  "nbformat_minor": 0,
  "metadata": {
    "colab": {
      "provenance": []
    },
    "kernelspec": {
      "name": "python3",
      "display_name": "Python 3"
    }
  },
  "cells": [
    {
      "cell_type": "code",
      "source": [
        "import csv\n",
        "import os\n",
        "import math\n",
        "import pandas as pd\n",
        "import networkx as nx\n",
        "import scipy.io as sio\n",
        "import numpy as np"
      ],
      "metadata": {
        "id": "4J67TmHJq76T"
      },
      "execution_count": null,
      "outputs": []
    },
    {
      "cell_type": "code",
      "source": [
        "import scipy.sparse as sparse\n",
        "from scipy.sparse import csgraph\n",
        "import argparse\n",
        "import logging\n",
        "import theano\n",
        "from theano import tensor as T"
      ],
      "metadata": {
        "id": "62nZjS0nvuGG"
      },
      "execution_count": null,
      "outputs": []
    },
    {
      "cell_type": "markdown",
      "source": [
        "**STEP 1:** Compute network features and store them in NumPy files.\n",
        "\n",
        "*!!! This step can be skipped if one of the movies has already been used, as they are already stored in the folder 'numpy_for_NETMF', which contains NumPy files related to the movies we used.*"
      ],
      "metadata": {
        "id": "K-KZJzUH9YIq"
      }
    },
    {
      "cell_type": "code",
      "source": [
        "!unzip /content/CSV.zip"
      ],
      "metadata": {
        "id": "WvqYfhcY1wCU"
      },
      "execution_count": null,
      "outputs": []
    },
    {
      "cell_type": "code",
      "metadata": {
        "id": "5v45ZcJgASpE",
        "colab": {
          "base_uri": "https://localhost:8080/"
        },
        "outputId": "3bfa03e5-a399-4a56-edaf-61febf24d7fb"
      },
      "source": [
        "!git clone https://github.com/xptree/NetMF"
      ],
      "execution_count": null,
      "outputs": [
        {
          "output_type": "stream",
          "name": "stdout",
          "text": [
            "Cloning into 'NetMF'...\n",
            "remote: Enumerating objects: 51, done.\u001b[K\n",
            "remote: Total 51 (delta 0), reused 0 (delta 0), pack-reused 51\u001b[K\n",
            "Receiving objects: 100% (51/51), 1.19 MiB | 3.77 MiB/s, done.\n",
            "Resolving deltas: 100% (21/21), done.\n"
          ]
        }
      ]
    },
    {
      "cell_type": "code",
      "metadata": {
        "id": "FRfSz-j8LuTC",
        "colab": {
          "base_uri": "https://localhost:8080/"
        },
        "outputId": "7a78e349-5ed0-4d9a-de67-81bec8e7b1c5"
      },
      "source": [
        "cd /content/NetMF"
      ],
      "execution_count": null,
      "outputs": [
        {
          "output_type": "stream",
          "name": "stdout",
          "text": [
            "/content/NetMF\n"
          ]
        }
      ]
    },
    {
      "cell_type": "code",
      "source": [
        "!pip install theano"
      ],
      "metadata": {
        "id": "hxvd2RMCuo87"
      },
      "execution_count": null,
      "outputs": []
    },
    {
      "cell_type": "code",
      "metadata": {
        "id": "SNk52smLZeQP"
      },
      "source": [
        "#-----------CREATE MAT FILES----------\n",
        "#--1- convert csv to pandas\n",
        "\n",
        "df=pd.read_csv('/content/A-A.csv', sep=',')\n",
        "edges=df.copy()\n",
        "edges=edges.drop(\"CATEGORY\", axis=1)\n",
        "\n",
        "\n",
        "#--2- generate adjacency matrix\n",
        "#--------convert pandas to edgelist--------\n",
        "G=nx.from_pandas_edgelist(edges, source='SOURCE', target='TARGET')\n",
        "adjacency=nx.to_pandas_adjacency(G, dtype=int)\n",
        "adjacency.to_csv('adjacency.csv', sep=',', header=False, index=False)\n",
        "\n",
        "adj=pd.read_csv('adjacency.csv', sep=',')\n",
        "# print(adj)\n",
        "\n",
        "#--3- convert pandas to .mat\n",
        "sio.savemat(os.path.join('/content/NetMF','edges.mat'), edges)\n",
        "sio.savemat(os.path.join('/content/NetMF','adjacency.mat'), adj)"
      ],
      "execution_count": null,
      "outputs": []
    },
    {
      "cell_type": "code",
      "metadata": {
        "id": "7BhNnK4WA-1D"
      },
      "source": [
        "!python3 netmf.py --input edges.mat --matfile-variable-name adjacency.mat --output output.mat"
      ],
      "execution_count": null,
      "outputs": []
    },
    {
      "cell_type": "code",
      "metadata": {
        "id": "aXfwmu2u-GI8"
      },
      "source": [
        "!python3 netmf.py --input edges.mat --output output.mat"
      ],
      "execution_count": null,
      "outputs": []
    },
    {
      "cell_type": "code",
      "metadata": {
        "id": "5oybqoEp9dbf"
      },
      "source": [
        "!python netmf.py -h"
      ],
      "execution_count": null,
      "outputs": []
    },
    {
      "cell_type": "code",
      "metadata": {
        "id": "EVdADBDT876g"
      },
      "source": [
        "!python netmf.py --input edges.mat --dim 128 --window 1 --small --output output"
      ],
      "execution_count": null,
      "outputs": []
    },
    {
      "cell_type": "code",
      "metadata": {
        "id": "wQjBZFIWbo_p"
      },
      "source": [
        "\n",
        "def load_adjacency_matrix(file, variable_name=\"network\"):\n",
        "    data = scipy.io.loadmat(file)\n",
        "    logger.info(\"loading mat file %s\", file)\n",
        "    return data[variable_name]\n",
        "\n",
        "logger = logging.getLogger(__name__)\n",
        "theano.config.exception_verbosity='high'"
      ],
      "execution_count": null,
      "outputs": []
    },
    {
      "cell_type": "code",
      "metadata": {
        "id": "ECHsIP6X7uLK"
      },
      "source": [
        "!python netmf.py -h"
      ],
      "execution_count": null,
      "outputs": []
    },
    {
      "cell_type": "code",
      "metadata": {
        "id": "noZadT1wwbvY"
      },
      "source": [
        "load_adjacency_matrix(\"adjacency.mat\", variable_name=\"network\")"
      ],
      "execution_count": null,
      "outputs": []
    },
    {
      "cell_type": "code",
      "metadata": {
        "id": "1Y5ZC3g1bqu9"
      },
      "source": [
        "load_adjacency_matrix(adjacency)"
      ],
      "execution_count": null,
      "outputs": []
    },
    {
      "cell_type": "code",
      "metadata": {
        "id": "VfSjK2W2N-Up"
      },
      "source": [
        "# 'outputfile' is a NumPy file.\n",
        "# It can be renamed according to the movie name and the entity.\n",
        "# !!! NOTE: The folder 'numpy_for_NETMF' contains NumPy files related to the movies we used.\n",
        "#  Therefore, previous steps can be ignored if one of the movies is used.\n",
        "\n",
        "!python netmf.py --input a.mat --dim 128 --window 1 --small --output outputfile"
      ],
      "execution_count": null,
      "outputs": []
    },
    {
      "cell_type": "markdown",
      "source": [
        "**STEP 2:** Compute the distance between movie networks"
      ],
      "metadata": {
        "id": "Z70QPSMoFsWQ"
      }
    },
    {
      "cell_type": "code",
      "source": [
        "import math\n",
        "import numpy as np\n",
        "#--------------------------- import data ------------------------\n",
        "#______________________________ Sci-fi ______________________________\n",
        "_SW1=np.load('/content/drive/MyDrive/NetMF/SW1/character.npy')\n",
        "_SW2=np.load('/content/drive/MyDrive/NetMF/SW2/character.npy')\n",
        "_SW3=np.load('/content/drive/MyDrive/NetMF/SW3/character.npy')\n",
        "_SW4=np.load('/content/drive/MyDrive/NetMF/SW4/character.npy')\n",
        "_SW5=np.load('/content/drive/MyDrive/NetMF/SW5/character.npy')\n",
        "_SW6=np.load('/content/drive/MyDrive/NetMF/SW6/character.npy')\n",
        "\n",
        "SW1=np.array(_SW1).flatten()\n",
        "SW2=np.array(_SW2).flatten()\n",
        "SW3=np.array(_SW3).flatten()\n",
        "SW4=np.array(_SW4).flatten()\n",
        "SW5=np.array(_SW5).flatten()\n",
        "SW6=np.array(_SW6).flatten()\n",
        "\n",
        "#___________________________ Horror ______________________________\n",
        "SC1 = np.load('/content/drive/MyDrive/NetMF/Scream1/character.npy')\n",
        "SC2= np.load('/content/drive/MyDrive/NetMF/Scream2/character.npy')\n",
        "SC3= np.load('/content/drive/MyDrive/NetMF/Scream3/character.npy')\n",
        "\n",
        "\n",
        "sc1= np.array(SC1).flatten()\n",
        "sc2= np.array(SC2).flatten()\n",
        "sc3= np.array(SC3).flatten()\n",
        "\n",
        "#___________________________ Romance ______________________________\n",
        "tit = np.load('/content/drive/MyDrive/NetMF/Titanic/character.npy')\n",
        "tw1= np.load('/content/drive/MyDrive/NetMF/Twilight_2008/character.npy')\n",
        "tw2= np.load('/content/drive/MyDrive/NetMF/Twilight_New_Moon/character.npy')\n",
        "\n",
        "Tit= np.array(tit).flatten()\n",
        "Twil_2008= np.array(tw1).flatten()\n",
        "Twil_new_moon= np.array(tw2).flatten()\n",
        "\n",
        "\n",
        "\n",
        "#___________________________ Comedy _______________________________\n",
        "Airplane = np.load('/content/drive/MyDrive/NetMF/Airplane/character.npy')\n",
        "Ten_Things_I_Know= np.load('/content/drive/MyDrive/NetMF/Ten_Things_I_Know/character.npy')\n",
        "_500_Days= np.load('/content/drive/MyDrive/NetMF/500_Days/character.npy')\n",
        "\n",
        "\n",
        "Airplane= np.array(Airplane).flatten()\n",
        "Ten_things= np.array(Ten_Things_I_Know).flatten()\n",
        "_500days= np.array(_500_Days).flatten()"
      ],
      "metadata": {
        "id": "YuE9Ae9xF82E"
      },
      "execution_count": null,
      "outputs": []
    },
    {
      "cell_type": "markdown",
      "source": [
        "**Compute distance between networks using Euclidean distance**"
      ],
      "metadata": {
        "id": "K1gyNk-8N54M"
      }
    },
    {
      "cell_type": "code",
      "source": [
        "#__________________ Sci-fi movies __________________\n",
        "\n",
        "Djs_SW1_SW1 = math.sqrt(sum([(a - b) ** 2 for a, b in zip(SW1, SW1)]))\n",
        "Djs_SW2_SW2 = math.sqrt(sum([(a - b) ** 2 for a, b in zip(SW2, SW2)]))\n",
        "Djs_SW3_SW3 = math.sqrt(sum([(a - b) ** 2 for a, b in zip(SW3, SW3)]))\n",
        "Djs_SW4_SW4 = math.sqrt(sum([(a - b) ** 2 for a, b in zip(SW4, SW4)]))\n",
        "Djs_SW5_SW5 = math.sqrt(sum([(a - b) ** 2 for a, b in zip(SW5, SW5)]))\n",
        "Djs_SW6_SW6 = math.sqrt(sum([(a - b) ** 2 for a, b in zip(SW6, SW6)]))\n",
        "\n",
        "Djs_SW1_SW2 = math.sqrt(sum([(a - b) ** 2 for a, b in zip(SW1, SW2)]))\n",
        "Djs_SW1_SW3 = math.sqrt(sum([(a - b) ** 2 for a, b in zip(SW1, SW3)]))\n",
        "Djs_SW1_SW4 = math.sqrt(sum([(a - b) ** 2 for a, b in zip(SW1, SW4)]))\n",
        "Djs_SW1_SW5 = math.sqrt(sum([(a - b) ** 2 for a, b in zip(SW1, SW5)]))\n",
        "Djs_SW1_SW6 = math.sqrt(sum([(a - b) ** 2 for a, b in zip(SW1, SW6)]))\n",
        "\n",
        "Djs_SW2_SW3 = math.sqrt(sum([(a - b) ** 2 for a, b in zip(SW2, SW3)]))\n",
        "Djs_SW2_SW4 = math.sqrt(sum([(a - b) ** 2 for a, b in zip(SW2, SW4)]))\n",
        "Djs_SW2_SW5 = math.sqrt(sum([(a - b) ** 2 for a, b in zip(SW2, SW5)]))\n",
        "Djs_SW2_SW6 = math.sqrt(sum([(a - b) ** 2 for a, b in zip(SW2, SW6)]))\n",
        "\n",
        "Djs_SW3_SW4 = math.sqrt(sum([(a - b) ** 2 for a, b in zip(SW3, SW4)]))\n",
        "Djs_SW3_SW5 = math.sqrt(sum([(a - b) ** 2 for a, b in zip(SW3, SW5)]))\n",
        "Djs_SW3_SW6 = math.sqrt(sum([(a - b) ** 2 for a, b in zip(SW3, SW6)]))\n",
        "\n",
        "Djs_SW4_SW5 = math.sqrt(sum([(a - b) ** 2 for a, b in zip(SW4, SW5)]))\n",
        "Djs_SW4_SW6 = math.sqrt(sum([(a - b) ** 2 for a, b in zip(SW4, SW6)]))\n",
        "\n",
        "Djs_SW5_SW6 = math.sqrt(sum([(a - b) ** 2 for a, b in zip(SW5, SW6)]))\n",
        "\n",
        "\n",
        "XLayer = [\"SW1\", \"SW2\", \"SW3\", \"SW4\", \"SW5\", \"SW6\"]\n",
        "YLayer = [\"SW1\", \"SW2\", \"SW3\", \"SW4\", \"SW5\", \"SW6\"]\n",
        "\n",
        "\n",
        "MatriceDj = np.array([[Djs_SW1_SW1,Djs_SW1_SW2,Djs_SW1_SW3,Djs_SW1_SW4,Djs_SW1_SW5,Djs_SW1_SW6],\n",
        "                   [Djs_SW1_SW2,Djs_SW2_SW2,Djs_SW2_SW3,Djs_SW2_SW4,Djs_SW2_SW5,Djs_SW2_SW6],\n",
        "                   [Djs_SW1_SW3,Djs_SW2_SW3,Djs_SW3_SW3,Djs_SW3_SW4,Djs_SW3_SW5,Djs_SW3_SW6],\n",
        "                   [Djs_SW1_SW4,Djs_SW2_SW4,Djs_SW3_SW4,Djs_SW4_SW4,Djs_SW4_SW5,Djs_SW4_SW6],\n",
        "                   [Djs_SW1_SW5,Djs_SW2_SW5,Djs_SW3_SW5,Djs_SW4_SW5,Djs_SW5_SW5,Djs_SW5_SW6],\n",
        "                   [Djs_SW1_SW6,Djs_SW2_SW6,Djs_SW3_SW6,Djs_SW4_SW6,Djs_SW5_SW6,Djs_SW6_SW6]])\n",
        "\n",
        "NetMF_Sci_Fi = pd.DataFrame(data=MatriceDj, index = [\"SW1\",\"SW2\",\"SW3\",\"SW4\",\"SW5\",\"SW6\"], columns=[\"SW1\",\"SW2\",\"SW3\",\"SW4\",\"SW5\",\"SW6\"])\n",
        "print(NetMF_Sci_Fi)\n",
        "NetMF_Sci_Fi.to_csv(\"/content/NetMf_Sci_Fi.csv\", sep=',', columns=None)\n"
      ],
      "metadata": {
        "id": "dTbTYcc9Nuaj"
      },
      "execution_count": null,
      "outputs": []
    },
    {
      "cell_type": "code",
      "source": [
        "#__________________ Horror movies __________________\n",
        "\n",
        "sc1_sc1 = math.sqrt(sum([(a - b) ** 2 for a, b in zip(sc1, sc1)]))\n",
        "sc2_sc2 = math.sqrt(sum([(a - b) ** 2 for a, b in zip(sc2, sc2)]))\n",
        "sc3_sc3 = math.sqrt(sum([(a - b) ** 2 for a, b in zip(sc3, sc3)]))\n",
        "\n",
        "SC1_SC2 = math.sqrt(sum([(a - b) ** 2 for a, b in zip(sc1, sc2)]))\n",
        "SC2_SC3 = math.sqrt(sum([(a - b) ** 2 for a, b in zip(sc2, sc3)]))\n",
        "SC1_SC3 = math.sqrt(sum([(a - b) ** 2 for a, b in zip(sc1, sc3)]))\n",
        "\n",
        "\n",
        "XLayer = [\"SC_1\", \"SC_2\", \"SC_3\"]\n",
        "YLayer = [\"SC_1\", \"SC_2\", \"SC_3\"]\n",
        "\n",
        "MatriceDj = np.array([[0,SC1_SC2,SC1_SC3],\n",
        "                   [SC1_SC2,0,SC2_SC3],\n",
        "                    [SC1_SC3,SC2_SC3,0]])\n",
        "\n",
        "NetMF_Horror = pd.DataFrame(data=MatriceDj, index = [\"SC_1\", \"SC_2\", \"SC_3\"], columns=[\"SC_1\", \"SC_2\", \"SC_3\"])\n",
        "print(NetMF_Horror)\n",
        "NetMF_Horror.to_csv(\"/content/NetMF_Horror.csv\", sep=',', columns=None)"
      ],
      "metadata": {
        "id": "LB9eMIwFOXoA"
      },
      "execution_count": null,
      "outputs": []
    },
    {
      "cell_type": "code",
      "source": [
        "#__________________ Romance movies __________________\n",
        "\n",
        "tit_tw1 = math.sqrt(sum([(a - b) ** 2 for a, b in zip(Tit, Twil_2008)]))\n",
        "tw1_tw2 = math.sqrt(sum([(a - b) ** 2 for a, b in zip(Twil_2008, Twil_new_moon)]))\n",
        "tit_tw2 = math.sqrt(sum([(a - b) ** 2 for a, b in zip(Tit, Twil_new_moon)]))\n",
        "\n",
        "XLayer = [\"Titanic\", \"TW_2008\", \"TW_NM\"]\n",
        "YLayer = [\"Titanic\", \"TW_2008\", \"TW_NM\"]\n",
        "\n",
        "MatriceDj = np.array([[0,tit_tw1,tit_tw2],\n",
        "                   [tit_tw1,0,tw1_tw2],\n",
        "                    [tit_tw2,tw1_tw2,0]])\n",
        "\n",
        "NetMF_Romance = pd.DataFrame(data=MatriceDj, index=[\"Titanic\", \"TW_2008\", \"TW_NM\"], columns=[\"Titanic\", \"TW_2008\", \"TW_NM\"])\n",
        "print(NetMF_Romance)\n",
        "NetMF_Romance.to_csv(\"/content/NetMF_Romance.csv\", sep=',', columns=None)"
      ],
      "metadata": {
        "id": "cfo9S1N1Ojpr"
      },
      "execution_count": null,
      "outputs": []
    },
    {
      "cell_type": "code",
      "source": [
        "#__________________ Comedy movies __________________\n",
        "\n",
        "Ten_Things_I_Know_500_Days = math.sqrt(sum([(a - b) ** 2 for a, b in zip(_500days, Ten_things)]))\n",
        "Airplane_Ten_Things_I_Know = math.sqrt(sum([(a - b) ** 2 for a, b in zip(Ten_things, Airplane)]))\n",
        "Airplane_500_Days = math.sqrt(sum([(a - b) ** 2 for a, b in zip(_500days, Airplane)]))\n",
        "\n",
        "XLayer = [\"Airplane\", \"10_things\", \"500_days\"]\n",
        "YLayer = [\"Airplane\", \"10_things\", \"500_days\"]\n",
        "\n",
        "MatriceDj = np.array([[0,Airplane_Ten_Things_I_Know,Airplane_500_Days],\n",
        "                   [Airplane_Ten_Things_I_Know,0,Ten_Things_I_Know_500_Days],\n",
        "                    [Airplane_500_Days,Ten_Things_I_Know_500_Days,0]])\n",
        "\n",
        "NetMF_Comedy = pd.DataFrame(data=MatriceDj, index = [\"Airplane\", \"10_things\", \"500_days\"], columns=[\"Airplane\", \"10_things\", \"500_days\"])\n",
        "print(NetMF_Comedy)\n",
        "NetMF_Comedy.to_csv(\"/content/NetMF_Comedy.csv\", sep=',', columns=None)"
      ],
      "metadata": {
        "id": "d7_tO39uPJqK"
      },
      "execution_count": null,
      "outputs": []
    }
  ]
}