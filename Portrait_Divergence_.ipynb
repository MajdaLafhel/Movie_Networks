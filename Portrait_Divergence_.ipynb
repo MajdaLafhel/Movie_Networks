{
  "nbformat": 4,
  "nbformat_minor": 0,
  "metadata": {
    "colab": {
      "provenance": []
    },
    "kernelspec": {
      "display_name": "Python 3",
      "name": "python3"
    }
  },
  "cells": [
    {
      "cell_type": "code",
      "metadata": {
        "id": "Q71SfBC7lqaW"
      },
      "source": [
        "!git clone https://github.com/bagrow/network-portrait-divergence.git"
      ],
      "execution_count": null,
      "outputs": []
    },
    {
      "cell_type": "code",
      "source": [
        "cd /content/network-portrait-divergence"
      ],
      "metadata": {
        "id": "lK1Yml34qkHc"
      },
      "execution_count": null,
      "outputs": []
    },
    {
      "cell_type": "code",
      "source": [
        "import sys, os\n",
        "import itertools\n",
        "import numpy as np\n",
        "import pandas as pd\n",
        "import networkx as nx\n",
        "import matplotlib.pyplot as plt\n",
        "from portrait_divergence import portrait_divergence"
      ],
      "metadata": {
        "id": "hxYv-euA9_Yr"
      },
      "execution_count": null,
      "outputs": []
    },
    {
      "cell_type": "code",
      "metadata": {
        "id": "3FnaBVhOo2R1"
      },
      "source": [
        "#__________________ Sci-fi movies _____________\n",
        "\n",
        "#   The path can be defined in two ways: using graphml or txt format\n",
        "#   For instance:\n",
        "#   SW1=nx.read_graphml('/Movie_networks/sci-fi/SW1/character.graphml')\n",
        "#   or\n",
        "#   SW1=nx.read_edgelist('/EdgesTxt/sci-fi/SW1/A-A.txt')\n",
        "\n",
        "SW1=nx.read_graphml('/Movie_networks/sci-fi/SW1/CHARACTER.graphml') #Path to character, keyword, or location networks\n",
        "SW2=nx.read_graphml('/Movie_networks/sci-fi/SW2/CHARACTER.graphml')\n",
        "SW3=nx.read_graphml('/Movie_networks/sci-fi/SW3/CHARACTER.graphml')\n",
        "SW4=nx.read_graphml('/Movie_networks/sci-fi/SW4/CHARACTER.graphml')\n",
        "SW5=nx.read_graphml('/Movie_networks/sci-fi/SW5/CHARACTER.graphml')\n",
        "SW6=nx.read_graphml('/Movie_networks/sci-fi/SW6/CHARACTER.graphml')\n",
        "\n",
        "Djs_SW1_SW1 = portrait_divergence(SW1, SW1)\n",
        "Djs_SW2_SW2 = portrait_divergence(SW2, SW2)\n",
        "Djs_SW3_SW3 = portrait_divergence(SW3, SW3)\n",
        "Djs_SW4_SW4 = portrait_divergence(SW4, SW4)\n",
        "Djs_SW5_SW5 = portrait_divergence(SW5, SW5)\n",
        "Djs_SW6_SW6 = portrait_divergence(SW6, SW6)\n",
        "\n",
        "\n",
        "Djs_SW1_SW2 = portrait_divergence(SW1, SW2)\n",
        "Djs_SW1_SW3 = portrait_divergence(SW1, SW3)\n",
        "Djs_SW1_SW4 = portrait_divergence(SW1, SW4)\n",
        "Djs_SW1_SW5 = portrait_divergence(SW1, SW5)\n",
        "Djs_SW1_SW6 = portrait_divergence(SW1, SW6)\n",
        "\n",
        "Djs_SW2_SW3 = portrait_divergence(SW2, SW3)\n",
        "Djs_SW2_SW4 = portrait_divergence(SW2, SW4)\n",
        "Djs_SW2_SW5 = portrait_divergence(SW2, SW5)\n",
        "Djs_SW2_SW6 = portrait_divergence(SW2, SW6)\n",
        "\n",
        "Djs_SW3_SW4 = portrait_divergence(SW3, SW4)\n",
        "Djs_SW3_SW5 = portrait_divergence(SW3, SW5)\n",
        "Djs_SW3_SW6 = portrait_divergence(SW3, SW6)\n",
        "\n",
        "Djs_SW4_SW5 = portrait_divergence(SW4, SW5)\n",
        "Djs_SW4_SW6 = portrait_divergence(SW4, SW6)\n",
        "\n",
        "Djs_SW5_SW6 = portrait_divergence(SW5, SW6)\n",
        "\n",
        "print(\"Djs_SW1_SW2\", Djs_SW1_SW2)\n",
        "print(\"Djs_SW1_SW3\", Djs_SW1_SW3)\n",
        "print(\"Djs_SW1_SW4\", Djs_SW1_SW4)\n",
        "print(\"Djs_SW1_SW5\", Djs_SW1_SW5)\n",
        "print(\"Djs_SW1_SW6\", Djs_SW1_SW6)\n",
        "\n",
        "print(\"Djs_SW2_SW3\", Djs_SW2_SW3)\n",
        "print(\"Djs_SW2_SW4\", Djs_SW2_SW4)\n",
        "print(\"Djs_SW2_SW5\", Djs_SW2_SW5)\n",
        "print(\"Djs_SW2_SW6\", Djs_SW2_SW6)\n",
        "\n",
        "print(\"Djs_SW3_SW4\", Djs_SW3_SW4)\n",
        "print(\"Djs_SW3_SW5\", Djs_SW3_SW5)\n",
        "print(\"Djs_SW3_SW6\", Djs_SW3_SW6)\n",
        "\n",
        "print(\"Djs_SW4_SW5\", Djs_SW4_SW5)\n",
        "print(\"Djs_SW4_SW6\", Djs_SW4_SW6)\n",
        "\n",
        "print(\"Djs_SW5_SW6\", Djs_SW5_SW6)\n",
        "\n",
        "\n",
        "\n",
        "XLayer = [\"SW1\",\"SW2\",\"SW3\",\"SW4\",\"SW5\",\"SW6\"]\n",
        "YLayer = [\"SW1\",\"SW2\",\"SW3\",\"SW4\",\"SW5\",\"SW6\"]\n",
        "\n",
        "\n",
        "MatriceDj=np.array([\n",
        "                    [Djs_SW1_SW1,Djs_SW1_SW2,Djs_SW1_SW3,Djs_SW1_SW4,Djs_SW1_SW5,Djs_SW1_SW6],\n",
        "                    [Djs_SW1_SW2,Djs_SW2_SW2,Djs_SW2_SW3,Djs_SW2_SW4,Djs_SW2_SW5,Djs_SW2_SW6],\n",
        "                    [Djs_SW1_SW3,Djs_SW2_SW3,Djs_SW3_SW3,Djs_SW3_SW4,Djs_SW3_SW5,Djs_SW3_SW6],\n",
        "                    [Djs_SW1_SW4,Djs_SW2_SW4,Djs_SW3_SW4,Djs_SW4_SW4,Djs_SW4_SW5,Djs_SW4_SW6],\n",
        "                    [Djs_SW1_SW5,Djs_SW2_SW5,Djs_SW3_SW5,Djs_SW4_SW5,Djs_SW5_SW5,Djs_SW5_SW6],\n",
        "                    [Djs_SW1_SW6,Djs_SW2_SW6,Djs_SW3_SW6,Djs_SW4_SW6,Djs_SW5_SW6,Djs_SW6_SW6]\n",
        "                    ])\n",
        "\n",
        "\n",
        "df = pd.DataFrame(data=MatriceDj, index=[\"SW1\",\"SW2\",\"SW3\",\"SW4\",\"SW5\",\"SW6\"], columns=[\"SW1\",\"SW2\",\"SW3\",\"SW4\",\"SW5\",\"SW6\"])\n",
        "print(df)\n",
        "df.to_csv(\"Portrait_Divergence_Sci_Fi.csv\", sep=',', columns=None)\n"
      ],
      "execution_count": null,
      "outputs": []
    },
    {
      "cell_type": "code",
      "metadata": {
        "id": "etBAWe-erzES"
      },
      "source": [
        "#__________________ Romance movies _____________\n",
        "\n",
        "Tit=nx.read_edgelist('EdgesTxt/romance/Titanic/A-A.txt')\n",
        "Twil_2008=nx.read_edgelist('EdgesTxt/Twilight_2008/A-A.txt')\n",
        "Twil_new_moon=nx.read_edgelist('EdgesTxt/Twilight_New_Moon/A-A.txt')\n",
        "\n",
        "Djs_SW1_SW1 = portrait_divergence(Tit,Tit)\n",
        "Djs_SW2_SW2 = portrait_divergence(Twil_2008,Twil_2008)\n",
        "Djs_SW3_SW3 = portrait_divergence(Twil_new_moon,Twil_new_moon)\n",
        "\n",
        "tit_Tw2008 = portrait_divergence(Tit,Twil_2008)\n",
        "Tw2008_TWmoon = portrait_divergence(Twil_2008,Twil_new_moon)\n",
        "TIT_TWmoon = portrait_divergence(Tit,Twil_new_moon)\n",
        "\n",
        "\n",
        "XLayer = [\"Titanic\", \"Twilight_1\", \"Twilight_2\"]\n",
        "YLayer = [\"Titanic\", \"Twilight_1\", \"Twilight_2\"]\n",
        "\n",
        "MatriceDj=np.array([\n",
        "                    [Djs_SW1_SW1,tit_Tw2008,TIT_TWmoon],\n",
        "                    [tit_Tw2008,Djs_SW2_SW2,Tw2008_TWmoon],\n",
        "                    [TIT_TWmoon,Tw2008_TWmoon,Djs_SW3_SW3]\n",
        "                    ])\n",
        "\n",
        "import pandas as pd\n",
        "df = pd.DataFrame(data=MatriceDj, index=[\"Titanic\", \"Twilight_1\", \"Twilight_2\"], columns=[\"Titanic\", \"Twilight_1\", \"Twilight_2\"])\n",
        "print(df)\n",
        "df.to_csv(\"Portrait_Divergence_Romance.csv\", sep=',', columns=None)\n"
      ],
      "execution_count": null,
      "outputs": []
    },
    {
      "cell_type": "code",
      "metadata": {
        "id": "voF0rmitvDZY"
      },
      "source": [
        "#__________________ Horror movies _____________\n",
        "\n",
        "sc1=nx.read_edgelist('/EdgesTxt/Scream1/A-A.txt')\n",
        "sc2=nx.read_edgelist('/EdgesTxt/Scream2/A-A.txt')\n",
        "sc3=nx.read_edgelist('/EdgesTxt/Scream3/A-A.txt')\n",
        "\n",
        "\n",
        "sc1_sc1 = portrait_divergence(sc1,sc1)\n",
        "sc2_sc2 = portrait_divergence(sc2,sc2)\n",
        "sc3_sc3 = portrait_divergence(sc3,sc3)\n",
        "\n",
        "sc1_sc2 = portrait_divergence(sc1,sc2)\n",
        "sc2_sc3 = portrait_divergence(sc2,sc3)\n",
        "sc1_sc3 = portrait_divergence(sc1,sc3)\n",
        "\n",
        "\n",
        "XLayer = [\"SC_1\", \"SC_2\", \"SC_3\"]\n",
        "YLayer = [\"SC_1\", \"SC_2\", \"SC_3\"]\n",
        "\n",
        "MatriceDj=np.array([\n",
        "                    [sc1_sc1,sc1_sc2,sc1_sc3],\n",
        "                    [sc1_sc2,sc2_sc2,sc2_sc3],\n",
        "                    [sc1_sc3,sc2_sc3,sc3_sc3]\n",
        "                    ])\n",
        "\n",
        "import pandas as pd\n",
        "df = pd.DataFrame(data=MatriceDj, index=[\"SC_1\", \"SC_2\", \"SC_3\"], columns=[\"SC_1\", \"SC_2\", \"SC_3\"])\n",
        "print(df)\n",
        "df.to_csv(\"Portrait_Divergence_Horror.csv\", sep=',', columns=None)"
      ],
      "execution_count": null,
      "outputs": []
    },
    {
      "cell_type": "code",
      "metadata": {
        "id": "YwU7zRZNwrMm"
      },
      "source": [
        "#__________________ COMEDY movies _____________\n",
        "\n",
        "Ten_things=nx.read_edgelist('/EdgesTxt/Ten_things/T-T.txt')\n",
        "Airplane=nx.read_edgelist('/EdgesTxt/Airplane/T-T.txt')\n",
        "_500days=nx.read_edgelist('/EdgesTxt/500days/T-T.txt')\n",
        "\n",
        "Airplane_Airplane = portrait_divergence(Airplane,Airplane)\n",
        "Ten_things_Ten_things = portrait_divergence(Ten_things,Ten_things)\n",
        "_500days_500days = portrait_divergence(_500days,_500days)\n",
        "\n",
        "\n",
        "TenThings_Airplane = portrait_divergence(Ten_things,Airplane)\n",
        "Airplane_500days = portrait_divergence(Airplane,_500days)\n",
        "Ten_things_500days = portrait_divergence(Ten_things,_500days)\n",
        "\n",
        "XLayer = [\"Airplane\", \"10_things\", \"500_days\"]\n",
        "YLayer = [\"Airplane\", \"10_things\", \"500_days\"]\n",
        "\n",
        "MatriceDj=np.array([\n",
        "                    [Airplane_Airplane,TenThings_Airplane,Airplane_500days],\n",
        "                    [TenThings_Airplane,Ten_things_Ten_things,Ten_things_500days],\n",
        "                    [Airplane_500days,Ten_things_500days,_500days_500days]\n",
        "                    ])\n",
        "\n",
        "import pandas as pd\n",
        "df = pd.DataFrame(data=MatriceDj, index=[\"Airplane\", \"10_things\", \"500_days\"], columns=[\"Airplane\", \"10_things\", \"500_days\"])\n",
        "print(df)\n",
        "df.to_csv(\"/content/Portrait_Divergence_Comedy.csv\", sep=',', columns=None)\n"
      ],
      "execution_count": null,
      "outputs": []
    }
  ]
}