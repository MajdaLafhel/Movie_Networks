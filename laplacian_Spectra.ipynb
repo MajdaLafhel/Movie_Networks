{
  "cells": [
    {
      "cell_type": "code",
      "source": [
        "import networkx as nx\n",
        "import pandas as pd\n",
        "import numpy as np\n",
        "import math"
      ],
      "metadata": {
        "id": "hudB9CLAF9cJ"
      },
      "execution_count": null,
      "outputs": []
    },
    {
      "cell_type": "code",
      "source": [
        "#   import dataset\n",
        "\n",
        "!unzip \"/content/EdgesTxt.zip\""
      ],
      "metadata": {
        "id": "MFIFTzzpfbb_"
      },
      "execution_count": null,
      "outputs": []
    },
    {
      "cell_type": "code",
      "execution_count": null,
      "metadata": {
        "id": "zpPGQ69fKgLL",
        "colab": {
          "base_uri": "https://localhost:8080/"
        },
        "outputId": "ffad854d-a390-490c-aa8a-cb10f50c59df"
      },
      "outputs": [
        {
          "output_type": "stream",
          "name": "stdout",
          "text": [
            "           SW1        SW2        SW3        SW4        SW5        SW6\n",
            "SW1   0.000000  46.102369  23.839860  43.103952  35.919607  41.672848\n",
            "SW2  46.102369   0.000000  30.532708  46.516902  29.895057  28.005277\n",
            "SW3  23.839860  30.532708   0.000000  36.587302  26.996233  29.364184\n",
            "SW4  43.103952  46.516902  36.587302   0.000000  27.748382  13.255040\n",
            "SW5  35.919607  29.895057  26.996233  27.748382   0.000000  21.246666\n",
            "SW6  41.672848  28.005277  29.364184  13.255040  21.246666   0.000000\n"
          ]
        }
      ],
      "source": [
        "#__________________ Sci-fi movies __________________\n",
        "\n",
        "_SW1 = nx.read_edgelist('/content/EdgesTxt/sci-fi/SW1/A-A.txt')\n",
        "_SW2 = nx.read_edgelist('/content/EdgesTxt/sci-fi/SW2/A-A.txt')\n",
        "_SW3 = nx.read_edgelist('/content/EdgesTxt/sci-fi/SW3/A-A.txt')\n",
        "_SW4 = nx.read_edgelist('/content/EdgesTxt/sci-fi/SW4/A-A.txt')\n",
        "_SW5 = nx.read_edgelist('/content/EdgesTxt/sci-fi/SW5/A-A.txt')\n",
        "_SW6 = nx.read_edgelist('/content/EdgesTxt/sci-fi/SW6/A-A.txt')\n",
        "\n",
        "# Compute network features\n",
        "SW1 = nx.laplacian_spectrum(_SW1)\n",
        "SW2 = nx.laplacian_spectrum(_SW2)\n",
        "SW3 = nx.laplacian_spectrum(_SW3)\n",
        "SW4 = nx.laplacian_spectrum(_SW4)\n",
        "SW5 = nx.laplacian_spectrum(_SW5)\n",
        "SW6 = nx.laplacian_spectrum(_SW6)\n",
        "\n",
        "# Compute the distance between networks\n",
        "Djs_SW1_SW1 = math.sqrt(sum([(a - b) ** 2 for a, b in zip(SW1, SW1)]))\n",
        "Djs_SW2_SW2 = math.sqrt(sum([(a - b) ** 2 for a, b in zip(SW2, SW2)]))\n",
        "Djs_SW3_SW3 = math.sqrt(sum([(a - b) ** 2 for a, b in zip(SW3, SW3)]))\n",
        "Djs_SW4_SW4 = math.sqrt(sum([(a - b) ** 2 for a, b in zip(SW4, SW4)]))\n",
        "Djs_SW5_SW5 = math.sqrt(sum([(a - b) ** 2 for a, b in zip(SW5, SW5)]))\n",
        "Djs_SW6_SW6 = math.sqrt(sum([(a - b) ** 2 for a, b in zip(SW6, SW6)]))\n",
        "\n",
        "Djs_SW1_SW2 = math.sqrt(sum([(a - b) ** 2 for a, b in zip(SW1, SW2)]))\n",
        "Djs_SW1_SW3 = math.sqrt(sum([(a - b) ** 2 for a, b in zip(SW1, SW3)]))\n",
        "Djs_SW1_SW4 = math.sqrt(sum([(a - b) ** 2 for a, b in zip(SW1, SW4)]))\n",
        "Djs_SW1_SW5 = math.sqrt(sum([(a - b) ** 2 for a, b in zip(SW1, SW5)]))\n",
        "Djs_SW1_SW6 = math.sqrt(sum([(a - b) ** 2 for a, b in zip(SW1, SW6)]))\n",
        "\n",
        "Djs_SW2_SW3 = math.sqrt(sum([(a - b) ** 2 for a, b in zip(SW2, SW3)]))\n",
        "Djs_SW2_SW4 = math.sqrt(sum([(a - b) ** 2 for a, b in zip(SW2, SW4)]))\n",
        "Djs_SW2_SW5 = math.sqrt(sum([(a - b) ** 2 for a, b in zip(SW2, SW5)]))\n",
        "Djs_SW2_SW6 = math.sqrt(sum([(a - b) ** 2 for a, b in zip(SW2, SW6)]))\n",
        "\n",
        "Djs_SW3_SW4 = math.sqrt(sum([(a - b) ** 2 for a, b in zip(SW3, SW4)]))\n",
        "Djs_SW3_SW5 = math.sqrt(sum([(a - b) ** 2 for a, b in zip(SW3, SW5)]))\n",
        "Djs_SW3_SW6 = math.sqrt(sum([(a - b) ** 2 for a, b in zip(SW3, SW6)]))\n",
        "\n",
        "Djs_SW4_SW5 = math.sqrt(sum([(a - b) ** 2 for a, b in zip(SW4, SW5)]))\n",
        "Djs_SW4_SW6 = math.sqrt(sum([(a - b) ** 2 for a, b in zip(SW4, SW6)]))\n",
        "\n",
        "Djs_SW5_SW6 = math.sqrt(sum([(a - b) ** 2 for a, b in zip(SW5, SW6)]))\n",
        "\n",
        "\n",
        "XLayer = [\"SW1\", \"SW2\", \"SW3\", \"SW4\", \"SW5\", \"SW6\"]\n",
        "YLayer = [\"SW1\", \"SW2\", \"SW3\", \"SW4\", \"SW5\", \"SW6\"]\n",
        "\n",
        "\n",
        "MatriceDj = np.array([[Djs_SW1_SW1,Djs_SW1_SW2,Djs_SW1_SW3,Djs_SW1_SW4,Djs_SW1_SW5,Djs_SW1_SW6],\n",
        "                   [Djs_SW1_SW2,Djs_SW2_SW2,Djs_SW2_SW3,Djs_SW2_SW4,Djs_SW2_SW5,Djs_SW2_SW6],\n",
        "                   [Djs_SW1_SW3,Djs_SW2_SW3,Djs_SW3_SW3,Djs_SW3_SW4,Djs_SW3_SW5,Djs_SW3_SW6],\n",
        "                   [Djs_SW1_SW4,Djs_SW2_SW4,Djs_SW3_SW4,Djs_SW4_SW4,Djs_SW4_SW5,Djs_SW4_SW6],\n",
        "                   [Djs_SW1_SW5,Djs_SW2_SW5,Djs_SW3_SW5,Djs_SW4_SW5,Djs_SW5_SW5,Djs_SW5_SW6],\n",
        "                   [Djs_SW1_SW6,Djs_SW2_SW6,Djs_SW3_SW6,Djs_SW4_SW6,Djs_SW5_SW6,Djs_SW6_SW6]])\n",
        "\n",
        "Spectra_Sci_Fi = pd.DataFrame(data=MatriceDj, index = [\"SW1\",\"SW2\",\"SW3\",\"SW4\",\"SW5\",\"SW6\"], columns=[\"SW1\",\"SW2\",\"SW3\",\"SW4\",\"SW5\",\"SW6\"])\n",
        "print(Spectra_Sci_Fi)\n",
        "Spectra_Sci_Fi.to_csv(\"/content/Spectra_Sci_Fi.csv\", sep=',', columns=None)\n"
      ]
    },
    {
      "cell_type": "code",
      "execution_count": null,
      "metadata": {
        "id": "AChjoL8rX606"
      },
      "outputs": [],
      "source": [
        "#__________________ Romance movies __________________\n",
        "\n",
        "Tit_char = nx.read_edgelist('/content/EdgesTxt/romance/Titanic/A-A.txt')\n",
        "Twil_2008_character = nx.read_edgelist('/content/EdgesTxt/romance/Twilight_2008/A-A.txt')\n",
        "Twil_new_moon_char = nx.read_edgelist('/content/EdgesTxt/romance/Twilight_New_Moon/A-A.txt')\n",
        "\n",
        "# Compute network features\n",
        "titanic = nx.laplacian_spectrum(Tit_char)\n",
        "twilight2008 = nx.laplacian_spectrum(Twil_2008_character)\n",
        "twilight_new_moon = nx.laplacian_spectrum(Twil_new_moon_char)\n",
        "\n",
        "# Compute the distance between networks\n",
        "tit_tw1 = math.sqrt(sum([(a - b) ** 2 for a, b in zip(titanic, twilight2008)]))\n",
        "tw1_tw2 = math.sqrt(sum([(a - b) ** 2 for a, b in zip(twilight2008, twilight_new_moon)]))\n",
        "tit_tw2 = math.sqrt(sum([(a - b) ** 2 for a, b in zip(titanic, twilight_new_moon)]))\n",
        "\n",
        "XLayer = [\"Titanic\", \"TW_2008\", \"TW_NM\"]\n",
        "YLayer = [\"Titanic\", \"TW_2008\", \"TW_NM\"]\n",
        "\n",
        "MatriceDj = np.array([[0,tit_tw1,tit_tw2],\n",
        "                   [tit_tw1,0,tw1_tw2],\n",
        "                    [tit_tw2,tw1_tw2,0]])\n",
        "\n",
        "Spectra_Romance = pd.DataFrame(data=MatriceDj, index=[\"Titanic\", \"TW_2008\", \"TW_NM\"], columns=[\"Titanic\", \"TW_2008\", \"TW_NM\"])\n",
        "print(Spectra_Romance)\n",
        "Spectra_Romance.to_csv(\"/content/Spectra_Romance.csv\", sep=',', columns=None)\n"
      ]
    },
    {
      "cell_type": "code",
      "execution_count": null,
      "metadata": {
        "id": "vZo19wrAb9Wl"
      },
      "outputs": [],
      "source": [
        "#__________________ Horror movies __________________\n",
        "\n",
        "scream1 = nx.read_edgelist('/content/EdgesTxt/horror/Scream1/A-A.txt')\n",
        "scream2 = nx.read_edgelist('/content/EdgesTxt/horror/Scream2/A-A.txt')\n",
        "scream3 = nx.read_edgelist('/content/EdgesTxt/horror/Scream3/A-A.txt')\n",
        "\n",
        "# Compute network features\n",
        "sc1 = nx.laplacian_spectrum(scream1)\n",
        "sc2 = nx.laplacian_spectrum(scream2)\n",
        "sc3 = nx.laplacian_spectrum(scream3)\n",
        "\n",
        "# Compute the distance between networks\n",
        "sc1_sc1 = math.sqrt(sum([(a - b) ** 2 for a, b in zip(sc1, sc1)]))\n",
        "sc2_sc2 = math.sqrt(sum([(a - b) ** 2 for a, b in zip(sc2, sc2)]))\n",
        "sc3_sc3 = math.sqrt(sum([(a - b) ** 2 for a, b in zip(sc3, sc3)]))\n",
        "\n",
        "SC1_SC2 = math.sqrt(sum([(a - b) ** 2 for a, b in zip(sc1, sc2)]))\n",
        "SC2_SC3 = math.sqrt(sum([(a - b) ** 2 for a, b in zip(sc2, sc3)]))\n",
        "SC1_SC3 = math.sqrt(sum([(a - b) ** 2 for a, b in zip(sc1, sc3)]))\n",
        "\n",
        "\n",
        "XLayer = [\"SC_1\", \"SC_2\", \"SC_3\"]\n",
        "YLayer = [\"SC_1\", \"SC_2\", \"SC_3\"]\n",
        "\n",
        "MatriceDj = np.array([[0,SC1_SC2,SC1_SC3],\n",
        "                   [SC1_SC2,0,SC2_SC3],\n",
        "                    [SC1_SC3,SC2_SC3,0]])\n",
        "\n",
        "Spectra_Horror = pd.DataFrame(data=MatriceDj, index = [\"SC_1\", \"SC_2\", \"SC_3\"], columns=[\"SC_1\", \"SC_2\", \"SC_3\"])\n",
        "print(Spectra_Horror)\n",
        "Spectra_Horror.to_csv(\"/content/Spectra_Horror.csv\", sep=',', columns=None)"
      ]
    },
    {
      "cell_type": "code",
      "execution_count": null,
      "metadata": {
        "colab": {
          "background_save": true
        },
        "id": "49mX31LUtWr-"
      },
      "outputs": [],
      "source": [
        "#__________________ Comedy movies __________________\n",
        "\n",
        "_500days = nx.read_edgelist('/content/EdgesTxt/comedy/500days/A-A.txt')\n",
        "Ten_things = nx.read_edgelist('/content/EdgesTxt/comedy/Ten_things/A-A.txt')\n",
        "Airplane = nx.read_edgelist('/content/EdgesTxt/comedy/Airplane/A-A.txt')\n",
        "\n",
        "# Compute network features\n",
        "_500days = nx.laplacian_spectrum(_500days)\n",
        "Ten_things = nx.laplacian_spectrum(Ten_things)\n",
        "Airplane = nx.laplacian_spectrum(Airplane)\n",
        "\n",
        "# Compute the distance between networks\n",
        "Ten_Things_I_Know_500_Days = math.sqrt(sum([(a - b) ** 2 for a, b in zip(_500days, Ten_things)]))\n",
        "Airplane_Ten_Things_I_Know = math.sqrt(sum([(a - b) ** 2 for a, b in zip(Ten_things, Airplane)]))\n",
        "Airplane_500_Days = math.sqrt(sum([(a - b) ** 2 for a, b in zip(_500days, Airplane)]))\n",
        "\n",
        "XLayer = [\"Airplane\", \"10_things\", \"500_days\"]\n",
        "YLayer = [\"Airplane\", \"10_things\", \"500_days\"]\n",
        "\n",
        "MatriceDj = np.array([[0,Airplane_Ten_Things_I_Know,Airplane_500_Days],\n",
        "                   [Airplane_Ten_Things_I_Know,0,Ten_Things_I_Know_500_Days],\n",
        "                    [Airplane_500_Days,Ten_Things_I_Know_500_Days,0]])\n",
        "\n",
        "Spectra_Comedy = pd.DataFrame(data=MatriceDj, index = [\"Airplane\", \"10_things\", \"500_days\"], columns=[\"Airplane\", \"10_things\", \"500_days\"])\n",
        "print(Spectra_Comedy)\n",
        "Spectra_Comedy.to_csv(\"/content/Spectra_Comedy.csv\", sep=',', columns=None)\n"
      ]
    }
  ],
  "metadata": {
    "colab": {
      "provenance": []
    },
    "kernelspec": {
      "display_name": "Python 3",
      "name": "python3"
    },
    "language_info": {
      "name": "python"
    }
  },
  "nbformat": 4,
  "nbformat_minor": 0
}